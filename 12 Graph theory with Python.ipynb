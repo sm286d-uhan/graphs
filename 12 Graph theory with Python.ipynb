{
 "cells": [
  {
   "cell_type": "markdown",
   "metadata": {
    "hide_cell": true
   },
   "source": [
    "<span class='note'><i>Make me look good.</i> Click on the cell below and press <kbd>Ctrl</kbd>+<kbd>Enter</kbd>.</span>"
   ]
  },
  {
   "cell_type": "code",
   "execution_count": 1,
   "metadata": {
    "hide_cell": true
   },
   "outputs": [
    {
     "data": {
      "text/html": [
       "<link href='http://fonts.googleapis.com/css?family=Lora:400,700,400i,700i' rel='stylesheet'>\n",
       "<link href='https://fonts.googleapis.com/css?family=Lato:300,400,700,300i,400i,700i' rel='stylesheet'>\n",
       "<link href='https://fonts.googleapis.com/css?family=Inconsolata:400' rel='stylesheet'>\n",
       "<link rel=\"stylesheet\" href=\"http://maxcdn.bootstrapcdn.com/font-awesome/4.3.0/css/font-awesome.min.css\">\n",
       "<style>\n",
       "    h1, h2, h3, h4, h5 {\n",
       "        font-family: 'Lato', sans-serif;\n",
       "    }\n",
       "    h5 {\n",
       "        font-style: normal;\n",
       "    }\n",
       "    kbd {\n",
       "        font-family: Lato, serif;\n",
       "    }\n",
       "    hr {\n",
       "      border-width: 2px;\n",
       "      border-color: #a9a9a9;\n",
       "    }\n",
       "    .cite {\n",
       "        font-size: 85%;\n",
       "        text-align: right;\n",
       "        margin-top: 10px;\n",
       "    }\n",
       "    .note {\n",
       "        font-family: Lora, serif;\n",
       "        font-size: 10pt;\n",
       "        font-weight: 400;\n",
       "        margin-top: 0;\n",
       "        margin-bottom: 0;\n",
       "    }\n",
       "    h5.prehead {\n",
       "        font-family: Lato, serif;\n",
       "        font-style: normal;\n",
       "        font-size: 13pt;\n",
       "        font-weight: 300;\n",
       "        margin-bottom: 15px;\n",
       "        margin-top: 30px;\n",
       "    }\n",
       "    h5.lesson {\n",
       "        font-family: Lato, serif;\n",
       "        font-weight: 400;\n",
       "        font-size: 15pt;\n",
       "        font-style: normal;\n",
       "        margin-top: 0px;\n",
       "        margin-bottom: 5px;\n",
       "    }\n",
       "    h1.lesson_title {\n",
       "        font-family: Lato, serif;\n",
       "        font-weight: 300;\n",
       "        font-size: 32pt;\n",
       "        line-height: 110%;\n",
       "        color:#CD2305;\n",
       "        margin-top: 0px;\n",
       "        margin-bottom: 15px;\n",
       "    }\n",
       "    div.cell{\n",
       "        max-width: 960px;\n",
       "        margin-left: auto;\n",
       "        margin-right: auto;\n",
       "    }\n",
       "    div.text_cell_render {\n",
       "        font-family: Lora, serif;\n",
       "        line-height: 160%;\n",
       "        font-size: 11pt;\n",
       "    }\n",
       "    .rendered_html pre, .rendered_html code  {\n",
       "        font-family: Inconsolata, monospace !important;\n",
       "        font-size: 11pt;\n",
       "    }\n",
       "    div.CodeMirror, div.output_area pre, div.prompt {\n",
       "        font-family: Inconsolata, monospace !important;\n",
       "        font-size: 110%;\n",
       "    }\n",
       "    .rendered_html ul li {\n",
       "        margin-top: 0.75em;\n",
       "        margin-bottom: 0.75em;\n",
       "    }\n",
       "    .rendered_html ul li ul li {\n",
       "        margin-top: 0.5em;\n",
       "        margin-bottom: 0.5em;\n",
       "    }\n",
       "    .rred {\n",
       "        color: #a00000;\n",
       "    }\n",
       "</style>\n",
       "<script>\n",
       "    MathJax.Hub.Config({\n",
       "                        TeX: {\n",
       "                           extensions: [\"AMSmath.js\"]\n",
       "                           },\n",
       "                tex2jax: {\n",
       "                    inlineMath: [ ['$','$'], [\"\\\\(\",\"\\\\)\"] ],\n",
       "                    displayMath: [ ['$$','$$'], [\"\\\\[\",\"\\\\]\"] ]\n",
       "                },\n",
       "                displayAlign: 'center', // Change this to 'center' to center equations.\n",
       "                \"HTML-CSS\": {\n",
       "                    styles: {'.MathJax_Display': {\"margin\": \"0.75em 0\"}}\n",
       "                }\n",
       "        });\n",
       "</script>\n"
      ],
      "text/plain": [
       "<IPython.core.display.HTML object>"
      ]
     },
     "execution_count": 1,
     "metadata": {},
     "output_type": "execute_result"
    }
   ],
   "source": [
    "from IPython.core.display import HTML\n",
    "HTML(open('css/custom.css', 'r').read())"
   ]
  },
  {
   "cell_type": "markdown",
   "metadata": {
    "hide_cell": true
   },
   "source": [
    "<h5 class='prehead'>SM286D &middot; Introduction to Applied Mathematics with Python &middot; Spring 2020 &middot; Uhan</h5>\n",
    "\n",
    "<h5 class='lesson'>Lesson 12.</h5>\n",
    "\n",
    "<h1 class='lesson_title'>Graph theory with Python</h1>"
   ]
  },
  {
   "cell_type": "markdown",
   "metadata": {},
   "source": [
    "## This lesson..."
   ]
  },
  {
   "cell_type": "markdown",
   "metadata": {},
   "source": [
    "- Introduction to graph theory\n",
    "\n",
    "- Using NetworkX to compute measures of centrality/influence\n",
    "     - Degree centrality\n",
    "     - Closeness centrality\n",
    "     - Betweenness centrality"
   ]
  },
  {
   "cell_type": "markdown",
   "metadata": {},
   "source": [
    "---"
   ]
  },
  {
   "cell_type": "markdown",
   "metadata": {},
   "source": [
    "## Introduction to graph theory"
   ]
  },
  {
   "cell_type": "markdown",
   "metadata": {},
   "source": [
    "- __Graphs__ model how various entities are connected.\n",
    "\n",
    "- Graphs have numerous and diverse applications throughout operations research, including in utility planning, job scheduling, task assignment, and modeling networks. \n",
    "\n",
    "- Graphs are a central focus of SM342, our class in discrete mathematics (a math or breadth elective in the Operations Research major). "
   ]
  },
  {
   "cell_type": "markdown",
   "metadata": {},
   "source": [
    "- A __graph__ $G = (V,E)$ consists of \n",
    "    - a set of __vertices__ $V$ (also called __nodes__), and \n",
    "    - a set $E$ of pairs of vertices. \n",
    "    \n",
    "- In an __undirected__ graph, each pair $(v_1, v_2) \\in E$ is an __edge__ with endpoints $v_1$ and $v_2$.\n",
    "    - For edges, direction doesn't matter: the edges $(v_1,v_2)$ and $(v_2,v_1)$ are the same.\n",
    "    - We use line segments to draw edges.\n",
    "    \n",
    "- In a __directed__ graph, each pair $(v_1, v_2) \\in E$ is an __arc__ that starts at $v_1$ and ends at $v_2$.\n",
    "    - For arcs, direction matters: the arcs $(v_1, v_2)$ and $(v_2, v_1)$ are NOT the same.\n",
    "    - We use arrows to draw arcs.\n",
    "\n",
    "- Figure 1 shows an example of an undirected graph $G$."
   ]
  },
  {
   "cell_type": "markdown",
   "metadata": {},
   "source": [
    "<img src=\"img/graph.png\" alt=\"Drawing\" width=\"40%\"/>\n",
    "<center> Figure 1. The graph of $G$. </center>"
   ]
  },
  {
   "cell_type": "markdown",
   "metadata": {},
   "source": [
    "__Example.__ Is $(0, 1)$ an edge of $G$? Is $(0, 2)$ an edge of $G$?"
   ]
  },
  {
   "cell_type": "markdown",
   "metadata": {},
   "source": [
    "_Write your notes here. Double-click to edit._"
   ]
  },
  {
   "cell_type": "markdown",
   "metadata": {},
   "source": [
    "- For this lesson, we will focus on undirected graphs &mdash; we will simply call them graphs."
   ]
  },
  {
   "cell_type": "markdown",
   "metadata": {},
   "source": [
    "- We often describe a graph by its __adjacency matrix__ $A$: a square matrix with one row and one column for each node, where\n",
    "\n",
    "\\begin{equation*}\n",
    "A_{ij} = \\begin{cases}\n",
    "1 & \\text{if } (i, j) \\text{ is an edge of } G\\\\\n",
    "0 & \\text{otherwise}\n",
    "\\end{cases}\n",
    "\\end{equation*}\n",
    "\n",
    "- The adjacency matrix for $G$ in Figure 1 is \n",
    "\\begin{equation*}\n",
    "A = \\begin{bmatrix}  0 & 1 & 0 & 0 & 0 \\\\\n",
    "1 & 0 & 1 & 1 & 0 \\\\\n",
    "0 & 1 & 0 & 1 & 0 \\\\\n",
    "0 & 1 & 1 & 0 & 1 \\\\\n",
    "0 & 0 & 0 & 1 & 0  \\end{bmatrix}.\n",
    "\\end{equation*}\n",
    "\n",
    "\n",
    "- The __degree__ of a node $v$ is the number of edges that contain $v$.\n",
    "    - In Figure 1, you can see the degree of a node by seeing how many edges come out of it."
   ]
  },
  {
   "cell_type": "markdown",
   "metadata": {},
   "source": [
    "__Example.__ What is the degree of node 3 in graph $G$ in Figure 1?"
   ]
  },
  {
   "cell_type": "markdown",
   "metadata": {},
   "source": [
    "_Write your notes here. Double-click to edit._"
   ]
  },
  {
   "cell_type": "markdown",
   "metadata": {},
   "source": [
    "- A __path__ is a sequence of nodes $(v_1,v_2,v_3,\\ldots,v_n)$ such that subsequent nodes $(v_i,v_{i+1})$ form an edge in $G$. \n",
    "\n",
    "- The __length of a path__ is the number of edges it contains. "
   ]
  },
  {
   "cell_type": "markdown",
   "metadata": {},
   "source": [
    "__Example.__ Consider the graph $G$ in Figure 1. Give an example of a path from node 0 to node 4. What is its length? What is the shortest path from node 0 to node 4?"
   ]
  },
  {
   "cell_type": "markdown",
   "metadata": {},
   "source": [
    "_Write your notes here. Double-click to edit._"
   ]
  },
  {
   "cell_type": "markdown",
   "metadata": {},
   "source": [
    "---"
   ]
  },
  {
   "cell_type": "markdown",
   "metadata": {},
   "source": [
    "## Using NetworkX to compute measures of centrality/influence"
   ]
  },
  {
   "cell_type": "markdown",
   "metadata": {},
   "source": [
    "- In today's lesson and Project 5, we will be using Python to compute measures of centrality/influence in social networks.  \n",
    "\n",
    "- Consider the following example."
   ]
  },
  {
   "cell_type": "markdown",
   "metadata": {},
   "source": [
    "__Example.__ Suppose Ann, Dan, Dave, Eve, Jay, Jen, Joe, and Sara are all on Facebook. Ann is friends with Eve and Jay; Dan is friends with Dave, Jen, Joe, and Sara; Dave is friends with Jay, Joe, and Dan; Eve is friends with Ann and Jay; Jay is friends with Ann, Eve, Dave, and Sara; Jen is friends with Dan, Dave, and Sara; Joe is friends with Dan and Dave; and Sara is friends with Dan, Jay, and Jen. "
   ]
  },
  {
   "cell_type": "markdown",
   "metadata": {},
   "source": [
    "- This is a lot of words to explain the connections between these individuals.  \n",
    "\n",
    "- It might be better to illustrate their relationships with a graph. See Figure 2 below."
   ]
  },
  {
   "cell_type": "markdown",
   "metadata": {},
   "source": [
    "<img src=\"img/social_network_leg.png\" alt=\"Drawing\" style=\"width: 80%\"/>\n",
    "\n",
    "<center> Figure 2. Social network example. </center>"
   ]
  },
  {
   "cell_type": "markdown",
   "metadata": {},
   "source": [
    "- __[NetworkX](https://networkx.github.io)__ is a Python package that lets us work with graphs.\n",
    "    - [Here is the NetworkX documentation.](https://networkx.github.io/documentation/stable/index.html)\n",
    "\n",
    "- Let's start with importing `networkx`:"
   ]
  },
  {
   "cell_type": "code",
   "execution_count": 2,
   "metadata": {},
   "outputs": [],
   "source": [
    "import networkx as nx"
   ]
  },
  {
   "cell_type": "markdown",
   "metadata": {},
   "source": [
    "- Next we define an empty graph `G`, followed by the list of nodes and edges:"
   ]
  },
  {
   "cell_type": "code",
   "execution_count": 3,
   "metadata": {},
   "outputs": [],
   "source": [
    "# Define an empty graph\n",
    "G = nx.Graph()\n",
    "\n",
    "# Define the list of nodes\n",
    "nodes = ['Ann', 'Dan', 'Dave', 'Eve', 'Jay', 'Jen', 'Joe', 'Sara']\n",
    "\n",
    "# Define the list of edges\n",
    "# Note that each edge is a list\n",
    "edges = [['Jay', 'Dave'], ['Sara', 'Dan'], ['Dan', 'Jen'], ['Eve', 'Ann'],\n",
    "        ['Sara', 'Jen'], ['Jay', 'Ann'], ['Joe', 'Dave'], ['Jay', 'Eve'],\n",
    "        ['Jen', 'Dave'], ['Jay', 'Sara'], ['Joe', 'Dan'], ['Dan', 'Dave']]"
   ]
  },
  {
   "cell_type": "markdown",
   "metadata": {},
   "source": [
    "- We can add `nodes` and `edges` to the graph `G` like this:"
   ]
  },
  {
   "cell_type": "code",
   "execution_count": 4,
   "metadata": {},
   "outputs": [],
   "source": [
    "# Add nodes to G\n",
    "G.add_nodes_from(nodes)\n",
    "\n",
    "# Add edges to G\n",
    "G.add_edges_from(edges)"
   ]
  },
  {
   "cell_type": "markdown",
   "metadata": {},
   "source": [
    "- Now that we've defined the network, a natural question to ask is: \n",
    "\n",
    "<center><em>Which individual is the most central/influential of the group?</em></center>\n",
    "\n",
    "- There are many ways to measure this. We will discuss three of them here."
   ]
  },
  {
   "cell_type": "markdown",
   "metadata": {},
   "source": [
    "### Degree centrality"
   ]
  },
  {
   "cell_type": "markdown",
   "metadata": {},
   "source": [
    "- Recall that the degree of a node is the number of edges containing that node.\n",
    "\n",
    "- Figure 3 below shows our social network example with the degree of each node listed next to it."
   ]
  },
  {
   "cell_type": "markdown",
   "metadata": {},
   "source": [
    "<img src=\"img/social_network_deg.png\" alt=\"Drawing\" width=\"80%\"/>\n",
    "\n",
    "<center> Figure 3. Social network example with node degrees. </center>"
   ]
  },
  {
   "cell_type": "markdown",
   "metadata": {},
   "source": [
    "- The __degree centrality__ of a node is defined as the node's degree divided by the maximum possible degree.  \n",
    "\n",
    "- The maximum possible degree is given by $N-1$, where $N$ is the total number of nodes in the graph.\n",
    "    - For our example, the maximum possible degree is 7.  \n",
    "\n",
    "- Figure 4 below shows our social network with the degree centrality of each node listed next to it."
   ]
  },
  {
   "cell_type": "markdown",
   "metadata": {},
   "source": [
    "<img src=\"img/social_network_deg_centrality.png\" alt=\"Drawing\" width=\"80%\"/>\n",
    "<center> Figure 4. Social network example with node degree centrality values. </center>"
   ]
  },
  {
   "cell_type": "markdown",
   "metadata": {},
   "source": [
    "- To compute the degree centrality of each node in a graph using NetworkX, we can do this:"
   ]
  },
  {
   "cell_type": "code",
   "execution_count": 5,
   "metadata": {},
   "outputs": [
    {
     "name": "stdout",
     "output_type": "stream",
     "text": [
      "{'Ann': 0.2857142857142857, 'Dan': 0.5714285714285714, 'Dave': 0.5714285714285714, 'Eve': 0.2857142857142857, 'Jay': 0.5714285714285714, 'Jen': 0.42857142857142855, 'Joe': 0.2857142857142857, 'Sara': 0.42857142857142855}\n"
     ]
    }
   ],
   "source": [
    "# Compute degree centrality for each node\n",
    "degree_centrality = nx.degree_centrality(G)\n",
    "\n",
    "# Check our work\n",
    "print(degree_centrality)"
   ]
  },
  {
   "cell_type": "markdown",
   "metadata": {},
   "source": [
    "- We see that `nx.degree_centrality()` returns a dictionary.\n",
    "\n",
    "- Let's print this information nicely:"
   ]
  },
  {
   "cell_type": "code",
   "execution_count": 6,
   "metadata": {},
   "outputs": [
    {
     "name": "stdout",
     "output_type": "stream",
     "text": [
      "Ann has degree centrality 0.286.\n",
      "Dan has degree centrality 0.571.\n",
      "Dave has degree centrality 0.571.\n",
      "Eve has degree centrality 0.286.\n",
      "Jay has degree centrality 0.571.\n",
      "Jen has degree centrality 0.429.\n",
      "Joe has degree centrality 0.286.\n",
      "Sara has degree centrality 0.429.\n"
     ]
    }
   ],
   "source": [
    "# Print degree centrality for each node\n",
    "for key, value in degree_centrality.items():\n",
    "    print(f'{key} has degree centrality {value:.3f}.')"
   ]
  },
  {
   "cell_type": "markdown",
   "metadata": {},
   "source": [
    "### Closeness centrality"
   ]
  },
  {
   "cell_type": "markdown",
   "metadata": {},
   "source": [
    "- Another way to measure the centrality/influence of a member of the network is _closeness centrality_.\n",
    "\n",
    "- In order to define closeness centrality, we begin by looking at the _shortest path distance_ between two nodes.  \n",
    "\n",
    "- The __shortest path distance__ between two nodes is simply the length of a shortest path between the two nodes.\n",
    "\n",
    "- Let's use Jay as the starting node, and find the shortest path from Jay to all the other nodes in the graph.  \n",
    "    - This process is illustrated in Figure 5 below."
   ]
  },
  {
   "cell_type": "markdown",
   "metadata": {},
   "source": [
    "<img src=\"img/closeness.gif\" alt=\"Drawing\" width=\"80%\"/>\n",
    "\n",
    "<center> Figure 5. Finding shortest paths between nodes in our social network example. </center>"
   ]
  },
  {
   "cell_type": "markdown",
   "metadata": {},
   "source": [
    "- Next we find the sum of the shortest path distances from Jay to all the other nodes:\n",
    "\n",
    "    \\begin{equation*}\n",
    "    1 + 1 + 1 + 2 + 2 + 2 + 1 = 10\n",
    "    \\end{equation*}\n",
    "\n",
    "- The __closeness__ $C$ of a node measures how close it is to every other node.\n",
    "\n",
    "- The closeness of the node Jay is given by\n",
    "\n",
    "    \\begin{equation*}\n",
    "    C(\\text{Jay}) = \\frac{1}{\\sum_{i} d(i,\\text{Jay})} = \\frac{1}{10}\n",
    "    \\end{equation*}\n",
    "\n",
    "    where $d(i,\\rm{Jay})$ is the shortest path distance from node $i$ to node $\\rm{Jay}$.\n",
    "\n",
    "- The __closeness centrality__ of node $i$ is $(N-1)C(i)$, where $N$ is the total number of nodes in the graph. \n",
    "\n",
    "- For our example, the closeness centrality of node Jay is\n",
    "\n",
    "    \\begin{equation*}\n",
    "    (N - 1) C(\\text{Jay}) = (8-1) \\frac{1}{10} = \\frac{7}{10}\n",
    "    \\end{equation*}\n",
    "\n",
    "- Figure 6 below shows our social network example with the closeness centrality of each node listed next to it."
   ]
  },
  {
   "cell_type": "markdown",
   "metadata": {},
   "source": [
    "<img src=\"img/closeness_centrality.png\" alt=\"Drawing\" style=\"width:80%;\"/>\n",
    "\n",
    "<center> Figure 6. Closeness centrality values for our social network example. </center>"
   ]
  },
  {
   "cell_type": "markdown",
   "metadata": {},
   "source": [
    "- To compute the closeness centrality of each node in a graph using NetworkX, we can do this:"
   ]
  },
  {
   "cell_type": "code",
   "execution_count": 7,
   "metadata": {},
   "outputs": [
    {
     "name": "stdout",
     "output_type": "stream",
     "text": [
      "{'Ann': 0.4666666666666667, 'Dan': 0.5833333333333334, 'Dave': 0.7, 'Eve': 0.4666666666666667, 'Jay': 0.7, 'Jen': 0.5384615384615384, 'Joe': 0.5, 'Sara': 0.6363636363636364}\n"
     ]
    }
   ],
   "source": [
    "# Compute closeness centrality for each node\n",
    "closeness_centrality = nx.closeness_centrality(G)\n",
    "\n",
    "# Check our work\n",
    "print(closeness_centrality)"
   ]
  },
  {
   "cell_type": "markdown",
   "metadata": {},
   "source": [
    "- Like `nx.degree_centrality()`, `nx.closeness_centrality()` also returns a dictionary.\n",
    "\n",
    "- Let's print this information nicely:"
   ]
  },
  {
   "cell_type": "code",
   "execution_count": 8,
   "metadata": {},
   "outputs": [
    {
     "name": "stdout",
     "output_type": "stream",
     "text": [
      "Ann has closeness centrality 0.467.\n",
      "Dan has closeness centrality 0.583.\n",
      "Dave has closeness centrality 0.700.\n",
      "Eve has closeness centrality 0.467.\n",
      "Jay has closeness centrality 0.700.\n",
      "Jen has closeness centrality 0.538.\n",
      "Joe has closeness centrality 0.500.\n",
      "Sara has closeness centrality 0.636.\n"
     ]
    }
   ],
   "source": [
    "# Print closeness centrality for each node\n",
    "for key, value in closeness_centrality.items():\n",
    "    print(f'{key} has closeness centrality {value:.3f}.')"
   ]
  },
  {
   "cell_type": "markdown",
   "metadata": {},
   "source": [
    "### Betweenness centrality"
   ]
  },
  {
   "cell_type": "markdown",
   "metadata": {},
   "source": [
    "- Yet another way to measure the centrality/influence of a member of the network is _betweenness centrality_.  \n",
    "\n",
    "- The __betweenness centrality__ of a node measures how often it is on the shortest path between two other nodes. \n",
    "\n",
    "- This is illustrated in Figure 7 below where we are looking at shortest paths from Dave to other nodes.  \n",
    "    - We see that Jay is on the shortest path from Dave to Eve and Dave to Sara, but Jay is not on the shortest path from Dave to Dan."
   ]
  },
  {
   "cell_type": "markdown",
   "metadata": {},
   "source": [
    "<img src=\"img/betweenness.png\" alt=\"Drawing\" style=\"width:80%;\"/>\n",
    "\n",
    "<center> Figure 7. Betweenness illustration for our social network example. </center>"
   ]
  },
  {
   "cell_type": "markdown",
   "metadata": {},
   "source": [
    "- To compute the betweenness centrality of each node in a graph using NetworkX, we can do this:"
   ]
  },
  {
   "cell_type": "code",
   "execution_count": 9,
   "metadata": {},
   "outputs": [
    {
     "name": "stdout",
     "output_type": "stream",
     "text": [
      "{'Ann': 0.0, 'Dan': 0.08730158730158728, 'Dave': 0.30952380952380953, 'Eve': 0.0, 'Jay': 0.492063492063492, 'Jen': 0.015873015873015872, 'Joe': 0.0, 'Sara': 0.14285714285714285}\n"
     ]
    }
   ],
   "source": [
    "# Compute betweenness centrality for each node\n",
    "betweenness_centrality = nx.betweenness_centrality(G)\n",
    "\n",
    "# Check our work\n",
    "print(betweenness_centrality)"
   ]
  },
  {
   "cell_type": "markdown",
   "metadata": {},
   "source": [
    "- Yup, `nx.betweenness_centrality()` also returns a dictionary.\n",
    "\n",
    "- Let's print this information nicely:"
   ]
  },
  {
   "cell_type": "code",
   "execution_count": 10,
   "metadata": {},
   "outputs": [
    {
     "name": "stdout",
     "output_type": "stream",
     "text": [
      "Ann has betweenness centrality 0.000.\n",
      "Dan has betweenness centrality 0.087.\n",
      "Dave has betweenness centrality 0.310.\n",
      "Eve has betweenness centrality 0.000.\n",
      "Jay has betweenness centrality 0.492.\n",
      "Jen has betweenness centrality 0.016.\n",
      "Joe has betweenness centrality 0.000.\n",
      "Sara has betweenness centrality 0.143.\n"
     ]
    }
   ],
   "source": [
    "# Print betweenness centrality for each node\n",
    "for key, value in betweenness_centrality.items():\n",
    "    print(f'{key} has betweenness centrality {value:.3f}.')"
   ]
  },
  {
   "cell_type": "markdown",
   "metadata": {},
   "source": [
    "- Figure 8 below shows our social network example with the betweenness centrality of each node listed next to it."
   ]
  },
  {
   "cell_type": "markdown",
   "metadata": {},
   "source": [
    "<img src=\"img/betweenness_centrality.png\" alt=\"Drawing\" style=\"width:80%;\"/>\n",
    "\n",
    "<center> Figure 8. Betweenness centrality values for our social network example. </center>"
   ]
  },
  {
   "cell_type": "markdown",
   "metadata": {},
   "source": [
    "### So... who is the most central/influential of the group?"
   ]
  },
  {
   "cell_type": "markdown",
   "metadata": {},
   "source": [
    "- As usual, the answer is, \"it depends\". \n",
    "\n",
    "- In particular, it depends on which measure you want to use.\n",
    "\n",
    "- The table below summarizes the results from the three measures we explored above.\n",
    "\n",
    "| Degree Centrality | Closeness Centrality | Betweenness Centrality |\n",
    "|:--- |:--- |:--- |\n",
    "| 1. Dan - 0.571 | 1. Dave - 0.700 | 1. Jay - 0.492 |\n",
    "| 2. Dave - 0.571 | 2. Jay - 0.700 | 2. Dave - 0.310 |\n",
    "| 3. Jay - 0.571 | 3. Sara - 0.636 | 3. Sara - 0.143 |"
   ]
  },
  {
   "cell_type": "markdown",
   "metadata": {},
   "source": [
    "---"
   ]
  },
  {
   "cell_type": "markdown",
   "metadata": {},
   "source": [
    "## Classwork"
   ]
  },
  {
   "cell_type": "markdown",
   "metadata": {},
   "source": [
    "__Problem 1.__ In the code below, we first define the adjacency matrix of a graph with NumPy. Note the way that we filled in a different row of $A$ on each of lines 6 through 10. For example, on line 7 we filled row 1 by setting $A_{10} = A_{12} = A_{13} = 1$.\n",
    "\n",
    "On line 13, we use the adjacency matrix $A$ to define the graph $G$. Note that this is different from how we defined a graph in the lesson above. We get a list of the nodes of $G$ on line 14 and a list of the edges of $G$ on line 15."
   ]
  },
  {
   "cell_type": "code",
   "execution_count": 11,
   "metadata": {},
   "outputs": [],
   "source": [
    "import numpy as np\n",
    "import networkx as nx\n",
    "\n",
    "# Define adjacency matrix\n",
    "A = np.zeros([5,5])\n",
    "A[0, [1]] = 1\n",
    "A[1, [0, 2, 3]] = 1\n",
    "A[2, [1, 3]] = 1\n",
    "A[3, [1, 2, 4]] = 1\n",
    "A[4, [3]] = 1\n",
    "\n",
    "# Define graph using NetworkX\n",
    "G = nx.Graph(A)\n",
    "nodes_list = list(G.nodes)\n",
    "edges_list = list(G.edges)"
   ]
  },
  {
   "cell_type": "markdown",
   "metadata": {},
   "source": [
    "Print the lists of nodes and edges to the screen. Make sure you understand why they look the way they do."
   ]
  },
  {
   "cell_type": "code",
   "execution_count": 12,
   "metadata": {},
   "outputs": [
    {
     "name": "stdout",
     "output_type": "stream",
     "text": [
      "Nodes: [0, 1, 2, 3, 4]\n",
      "Edges: [(0, 1), (1, 2), (1, 3), (2, 3), (3, 4)]\n"
     ]
    }
   ],
   "source": [
    "print(f'Nodes: {nodes_list}')\n",
    "print(f'Edges: {edges_list}')"
   ]
  },
  {
   "cell_type": "markdown",
   "metadata": {},
   "source": [
    "__Problem 2.__ You can draw a graph `G` with `nx.draw_networkx(G)`. Use this to draw the graph `G` defined in Problem 1. Do you see what you expected?\n",
    "\n",
    "You may need to import the `matplotlib.pyplot` package as `plt` to get the drawing to work. \n",
    "Take a look at the [documentation](https://networkx.github.io/documentation/stable/index.html) if you need to. Try calling `nx.draw_network()` with the keyword arguments `with_labels=True` and `font_color='w'`. "
   ]
  },
  {
   "cell_type": "code",
   "execution_count": 13,
   "metadata": {},
   "outputs": [
    {
     "data": {
      "image/png": "[encoded data removed]",
      "text/plain": [
       "<Figure size 432x288 with 1 Axes>"
      ]
     },
     "metadata": {},
     "output_type": "display_data"
    }
   ],
   "source": [
    "import matplotlib.pyplot as plt\n",
    "nx.draw_networkx(G, with_labels=True, font_color='w')"
   ]
  },
  {
   "cell_type": "markdown",
   "metadata": {},
   "source": [
    "__Problem 3.__ The graph `G` you defined in Problem 1 has a variety of methods and attributes. For example, the attribute `G.nodes` is a list-like object that contains all the nodes of `G`. As another example, the method `G.degree()` returns a data structure that contains the degree for each vertex: in particular, you can access the degree of vertex $j$ with `G.degree()[j]`.  Use a `for` loop to print a sentence like \n",
    "\n",
    "```\n",
    "The degree of vertex 0 is 1.\n",
    "``` \n",
    "\n",
    "for each vertex in `G`. "
   ]
  },
  {
   "cell_type": "code",
   "execution_count": 14,
   "metadata": {},
   "outputs": [
    {
     "name": "stdout",
     "output_type": "stream",
     "text": [
      "The degree of vertex 0 is 1.\n",
      "The degree of vertex 1 is 3.\n",
      "The degree of vertex 2 is 2.\n",
      "The degree of vertex 3 is 3.\n",
      "The degree of vertex 4 is 1.\n"
     ]
    }
   ],
   "source": [
    "for n in G.nodes: \n",
    "    print(f'The degree of vertex {n} is {G.degree()[n]}.')"
   ]
  },
  {
   "cell_type": "markdown",
   "metadata": {},
   "source": [
    "__Problem 4.__\n",
    "You can find the vertices connected to vertex `v` in graph `G` with `G.neighbors(v)`. However, it returns a strange (`dict_keyiterator`) object. You can call `list()` on the result of `G.neighbors(v)` to turn it into something readable. \n",
    "\n",
    "Print the list of neighbors of vertex 2."
   ]
  },
  {
   "cell_type": "code",
   "execution_count": 15,
   "metadata": {},
   "outputs": [
    {
     "name": "stdout",
     "output_type": "stream",
     "text": [
      "The neighbors of node 2 are the elements of the list [1, 3].\n"
     ]
    }
   ],
   "source": [
    "two_neighbors = list(G.neighbors(2))\n",
    "print(f'The neighbors of node 2 are the elements of the list {two_neighbors}.')"
   ]
  },
  {
   "cell_type": "markdown",
   "metadata": {},
   "source": [
    "__Problem 5.__\n",
    "You can find the length of a shortest path from node 0 to node 4 with \n",
    "\n",
    "```python\n",
    "nx.shortest_path_length(G, source=0, target=4)\n",
    "```\n",
    "\n",
    "In today's lesson, we called this the __shortest path distance__ between node 0 and node 4. The method `nx.shortest_path()` produces the path itself. \n",
    "\n",
    "Modify the code in Problem 1 to construct the adjacency matrix `B` for a new graph with edges (0, 1), (0, 3), (1, 2), (2, 3), and (3, 4). Let `H` be the graph with adjacency matrix `B`. Find the shortest path length between 1 and 4. Use the `nx.all_shortest_paths()` method to find all the shortest paths from node 1 to node 4 in `H`. Read the NetworkX documentation if you're not sure how to use `nx.all_shortest_paths()`."
   ]
  },
  {
   "cell_type": "code",
   "execution_count": 16,
   "metadata": {},
   "outputs": [
    {
     "name": "stdout",
     "output_type": "stream",
     "text": [
      "The shortest path distance from node 1 to node 4 is 3\n",
      "The shortest paths from node 1 to node 4 are: \n",
      "[1, 0, 3, 4]\n",
      "[1, 2, 3, 4]\n"
     ]
    }
   ],
   "source": [
    "# Define adjacency matrix\n",
    "B = np.zeros([5,5])\n",
    "B[0, [1, 3]] = 1\n",
    "B[1, [0, 2]] = 1\n",
    "B[2, [1, 3]] = 1\n",
    "B[3, [0, 2, 4]] = 1\n",
    "B[4, [3]] = 1\n",
    "\n",
    "# Define graph using adjacency matrix\n",
    "H = nx.Graph(B)\n",
    "\n",
    "# Compute shortest path information\n",
    "print(f'The shortest path distance from node 1 to node 4 is {nx.shortest_path_length(H, source=1, target=4)}')\n",
    "print(f'The shortest paths from node 1 to node 4 are: ')\n",
    "for i in nx.all_shortest_paths(H, source=1, target=4):\n",
    "    print(i)"
   ]
  },
  {
   "cell_type": "markdown",
   "metadata": {},
   "source": [
    "__Problem 6.__\n",
    "The graph `H` from the last problem is really a graph of friendships among five people. Create a `names` dictionary that maps node numbers as keys to names as values as follows: Suzie (node 0), Tom (node 1), Jamal (node 2), Heather (node 3), and Nitish (node 4).\n",
    "\n",
    "In `H`, we see that Suzie is friends (separately) with Tom and Heather.  Print the two shortest paths from Tom to Nitish, using names rather than node numbers. Do this without hard coding your answer (i.e. refer to the `names` dictionary rather than writing names directly in your code). One of your paths should be: \n",
    "\n",
    "```\n",
    "Tom - Jamal - Heather - Nitish\n",
    "```"
   ]
  },
  {
   "cell_type": "code",
   "execution_count": 17,
   "metadata": {},
   "outputs": [
    {
     "name": "stdout",
     "output_type": "stream",
     "text": [
      "The shorest paths are: \n",
      "Tom - Suzie - Heather - Nitish\n",
      "Tom - Jamal - Heather - Nitish\n"
     ]
    }
   ],
   "source": [
    "# Define dictionary that maps node numbers to names\n",
    "names = {0: 'Suzie', 1: 'Tom', 2: 'Jamal', 3: 'Heather', 4: 'Nitish'}\n",
    "\n",
    "# Print all shortest paths from Tom to Nitish,\n",
    "# using names rather than node numbers\n",
    "print('The shorest paths are: ')\n",
    "for path in nx.all_shortest_paths(H, source=1, target=4):\n",
    "    \n",
    "    # Create list of names corresponding to path\n",
    "    # I'm using a list comprehension here, but \n",
    "    # you can also use a for loop with .append()\n",
    "    path_names = [names[n] for n in path]\n",
    "\n",
    "    # Print the list of names, using .join() to format them nicely\n",
    "    # See Problem 1 from Lesson 10 for more information about .join()\n",
    "    print(' - '.join(path_names))"
   ]
  },
  {
   "cell_type": "markdown",
   "metadata": {},
   "source": [
    "### Bonus classwork\n",
    "\n",
    "The following problems are included as bonus material. Work on them only after completing the problems above."
   ]
  },
  {
   "cell_type": "markdown",
   "metadata": {},
   "source": [
    "__Problem 7 (Directed graphs).__\n",
    "Directed graphs are used to model many different situations in operations research. There is a popular OR textbook, _Network Flows_ (by Ravindra K. Ahuja, Thomas L. Magnanti, and James B. Orlin), devoted to the topic and USNA often offers an elective course in this area. \n",
    "\n",
    "Network flow problems are defined on _directed_ graphs $(V, E)$: the set $E$ consists of arcs $(v_1, v_2)$ that allow flow from vertex $v_1$ to vertex $v_2$. Each vertex has an associated supply or demand, and each edge has an associated capacity and cost.\n",
    "\n",
    "One type of network flow problem is the _maximum flow of minimum cost problem_. In this problem, we want to move as much flow along edges from a source vertex to a destination vertex, leaving nothing behind at any other vertex, while respecting the capacity constraints on the edges, and at minimum cost. The decision variables in this problem determine how much to flow along each edge of the network.\n",
    "\n",
    "The code below solves a maximum flow of minimum cost problem using NetworkX on a directed graph (note the use of `DiGraph()`) where vertex 1 is the source and vertex 7 is the destination. On paper, draw a picture of the network, and label each edge with capacity/cost/flow, where flow comes from the solution to the problem. "
   ]
  },
  {
   "cell_type": "code",
   "execution_count": 18,
   "metadata": {},
   "outputs": [
    {
     "name": "stdout",
     "output_type": "stream",
     "text": [
      "{1: {2: 12, 3: 16}, 2: {3: 0, 6: 14}, 3: {4: 6, 5: 10}, 6: {5: 11, 7: 3}, 4: {2: 2, 5: 4}, 5: {7: 25}, 7: {4: 0}}\n",
      "373\n"
     ]
    }
   ],
   "source": [
    "# Define empty directed graph\n",
    "G = nx.DiGraph()\n",
    "\n",
    "# Add edges to directed graph\n",
    "# Note that NetworkX will add the corresponding nodes automatically\n",
    "# Also note that some edges do not have 'capacity' defined: \n",
    "# read the documentation to understand what this means.\n",
    "G.add_edges_from([(1, 2, {'capacity': 12, 'weight': 4}),\n",
    "                  (1, 3, {'capacity': 20, 'weight': 6}),\n",
    "                  (2, 3, {'capacity': 6, 'weight': -3}),\n",
    "                  (2, 6, {'capacity': 14, 'weight': 1}),\n",
    "                  (3, 4, {'weight': 9}),\n",
    "                  (3, 5, {'capacity': 10, 'weight': 5}),\n",
    "                  (4, 2, {'capacity': 19, 'weight': 13}),\n",
    "                  (4, 5, {'capacity': 4, 'weight': 0}),\n",
    "                  (5, 7, {'capacity': 28, 'weight': 2}),\n",
    "                  (6, 5, {'capacity': 11, 'weight': 1}),\n",
    "                  (6, 7, {'weight': 8}),\n",
    "                  (7, 4, {'capacity': 6, 'weight': 6})])\n",
    "\n",
    "# Find the max flow of min cost from vertex 1 to vertex 7\n",
    "# Read the documentation to understand the structure of the \n",
    "# dictionary that nx.max_flow_min_cost returns.\n",
    "min_cost_flow = nx.max_flow_min_cost(G, s=1, t=7)\n",
    "print(min_cost_flow)\n",
    "\n",
    "# Compute the cost of the max flow of min cost\n",
    "min_cost = nx.cost_of_flow(G, min_cost_flow)\n",
    "print(min_cost)"
   ]
  },
  {
   "cell_type": "markdown",
   "metadata": {},
   "source": [
    "<img src=\"img/Question_7_solutiona.jpg\" alt=\"Drawing\" style=\"width: 400px;\"/>"
   ]
  },
  {
   "cell_type": "markdown",
   "metadata": {},
   "source": [
    "__Problem 8 (Eulerian graphs)__. A path in an undirected graph $G$ is called _Eulerian_ if it uses all of the edges of $G$ precisely once. A path where the initial vertex and the last vertex are the same is called a _cycle_ or a _circuit_. A graph $G$ that has an Eulerian cycle (an Eulerian path that is also a cycle) is called an *Eulerian graph*, named after Leonhard Euler (look up the K&#246;nigsberg Bridge Problem if you are curious about how such graphs first appeared). \n",
    "\n",
    "Define a graph $P$ with six vertices 0, 1, 2, 3, 4 and 5 and edges (0, 1), (0, 3), (1, 2), (2, 3), (3, 4), (3, 5), (4, 5). Draw $P$ using NetworkX. Then convince yourself that $P$ is Eulerian. \n",
    "\n",
    "The code \n",
    "\n",
    "```\n",
    "list(nx.eulerian_circuit(G))\n",
    "```\n",
    "\n",
    "produces an Eulerian cycle for a graph `G` if one exists. Use this code to check your work. Find the degree of each vertex in $P$. The degrees all share a common property; can you guess what it is? Make your guess and then check out the cell below for a fun fact about Eulerian graphs."
   ]
  },
  {
   "cell_type": "code",
   "execution_count": 19,
   "metadata": {},
   "outputs": [
    {
     "name": "stdout",
     "output_type": "stream",
     "text": [
      "Eulerian circuit: [(0, 3), (3, 5), (5, 4), (4, 3), (3, 2), (2, 1), (1, 0)]\n",
      "Degree of vertex 0: 2\n",
      "Degree of vertex 1: 2\n",
      "Degree of vertex 2: 2\n",
      "Degree of vertex 3: 4\n",
      "Degree of vertex 4: 2\n",
      "Degree of vertex 5: 2\n",
      "All the degrees are even!\n"
     ]
    },
    {
     "data": {
      "image/png": "[encoded data removed]",
      "text/plain": [
       "<Figure size 432x288 with 1 Axes>"
      ]
     },
     "metadata": {},
     "output_type": "display_data"
    }
   ],
   "source": [
    "# Define adjacency matrix of P\n",
    "C = np.zeros([6,6])\n",
    "C[0, [1, 3]] = 1\n",
    "C[1, [0, 2]] = 1\n",
    "C[2, [1, 3]] = 1\n",
    "C[3, [0, 2, 4, 5]] = 1\n",
    "C[4, [3, 5]] = 1\n",
    "C[5, [3, 4]] = 1\n",
    "\n",
    "# Define graph P based on adjacency matrix\n",
    "P = nx.Graph(C)\n",
    "\n",
    "# Draw the graph\n",
    "nx.draw_networkx(P, with_labels=True, font_color='w')\n",
    "\n",
    "# Find an Eulerian circuit and print the output\n",
    "print(f'Eulerian circuit: {list(nx.eulerian_circuit(P))}')\n",
    "\n",
    "# Print the degree of every vertex\n",
    "for i in P.nodes:\n",
    "    print(f'Degree of vertex {i}: {P.degree()[i]}')\n",
    "\n",
    "print('All the degrees are even!')"
   ]
  },
  {
   "cell_type": "markdown",
   "metadata": {},
   "source": [
    "It turns out that every vertex in an Eulerian graph has even degree. In fact, if the graph is connected (any two vertices can be connected by a path) and every vertex has even degree, then the graph is also Eulerian!"
   ]
  },
  {
   "cell_type": "markdown",
   "metadata": {},
   "source": [
    "__Problem 9 (Planarity).__\n",
    "A (undirected) graph is called planar if it can be drawn in the plane without edges crossing (you are allowed to draw the graph edges as curved lines if you like). All the graphs we've seen so far have been planar graphs. \n",
    "\n",
    "Two non-planar graphs are $K_{5}$ and $K_{3,3}$. The graph $K_{5}$ is called the complete graph on 5 vertices. It has ... wait for it ... five vertices. And it is complete in the sense that every possible edge is in the graph: every pair of vertices is connected by an edge. \n",
    "\n",
    "The graph $K_{3,3}$ is an example of a complete bipartite graph. Such graphs have two kinds of vertices (call them blue and gold) and all possible edges between blue and gold vertices are present while no edges between vertices of the same color are present. The graph $K_{3,3}$ has 3 vertices of each color. \n",
    "\n",
    "In fact, in a precise sense, these are the only examples of non-planar graphs. It turns out that every other non-planar graph can be obtained from $K_5$ or $K_{3,3}$ by a combination of actions: adding edges between existing vertices, subdividing an existing edge by inserting a vertex on the edge, or adding new vertices. The Petersen graph is the graph pictured in Figure 9."
   ]
  },
  {
   "cell_type": "markdown",
   "metadata": {},
   "source": [
    "<img src=\"img/petersen.png\" alt=\"Drawing\" style=\"width: 60%;\"/>\n",
    "\n",
    "<center> Figure 9. The Petersen graph. </center>"
   ]
  },
  {
   "cell_type": "markdown",
   "metadata": {},
   "source": [
    "It is a counterexample to many natural conjectures in graph theory. In the code below, we define the Petersen graph in NetworkX using `nx.petersen_graph()`, and draw the graph."
   ]
  },
  {
   "cell_type": "code",
   "execution_count": 20,
   "metadata": {},
   "outputs": [
    {
     "data": {
      "image/png": "[encoded data removed]",
      "text/plain": [
       "<Figure size 432x288 with 1 Axes>"
      ]
     },
     "metadata": {},
     "output_type": "display_data"
    }
   ],
   "source": [
    "# Define Petersen graph in NetworkX\n",
    "G = nx.petersen_graph()\n",
    "\n",
    "# Draw the Petersen graph\n",
    "nx.draw_shell(G, nlist=[range(5, 10), range(5)], with_labels=True, font_weight='bold', font_color='w')"
   ]
  },
  {
   "cell_type": "markdown",
   "metadata": {},
   "source": [
    "Use the code below to learn whether the Petersen graph is planar or not. "
   ]
  },
  {
   "cell_type": "markdown",
   "metadata": {},
   "source": [
    "> *Note.*  You may need to update to the latest version of NetworkX to use `nx.check_planarity()`. To do that, go to the Anaconda Prompt (search in the Windows Start Menu) and then type \n",
    ">\n",
    "> ```\n",
    "> pip install networkx --upgrade\n",
    "> ```\n",
    ">\n",
    "> You'll need to restart the kernel in Jupyter in order to access the new version of the package once it is installed."
   ]
  },
  {
   "cell_type": "code",
   "execution_count": 21,
   "metadata": {},
   "outputs": [
    {
     "data": {
      "text/plain": [
       "(False, None)"
      ]
     },
     "execution_count": 21,
     "metadata": {},
     "output_type": "execute_result"
    }
   ],
   "source": [
    "# Check for planarity\n",
    "nx.check_planarity(G)"
   ]
  },
  {
   "cell_type": "markdown",
   "metadata": {},
   "source": [
    "On paper, can you build the Petersen graph from $K_{3,3}$ using the actions described above? "
   ]
  },
  {
   "cell_type": "markdown",
   "metadata": {},
   "source": [
    "<img src=\"img/Question_8_solution.jpg\" alt=\"Drawing\" style=\"width: 800px;\"/>"
   ]
  }
 ],
 "metadata": {
  "kernelspec": {
   "display_name": "Python 3",
   "language": "python",
   "name": "python3"
  },
  "language_info": {
   "codemirror_mode": {
    "name": "ipython",
    "version": 3
   },
   "file_extension": ".py",
   "mimetype": "text/x-python",
   "name": "python",
   "nbconvert_exporter": "python",
   "pygments_lexer": "ipython3",
   "version": "3.7.6"
  }
 },
 "nbformat": 4,
 "nbformat_minor": 2
}
